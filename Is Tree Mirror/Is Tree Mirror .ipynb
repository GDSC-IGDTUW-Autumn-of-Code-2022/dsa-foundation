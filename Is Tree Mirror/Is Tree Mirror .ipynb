{
 "cells": [
  {
   "cell_type": "code",
   "execution_count": 7,
   "id": "e32651cb",
   "metadata": {},
   "outputs": [],
   "source": [
    "# class TreeNode:\n",
    "#     def __init__(self, val=0, left=None, right=None):\n",
    "#         self.val = val\n",
    "#         self.left = left\n",
    "#         self.right = right\n",
    "class Solution:\n",
    "    def isSymmetric(self, root):\n",
    "        def symmetric(p,q):\n",
    "            if p is None and q is None:\n",
    "                return True\n",
    "            if p is None or q is None:\n",
    "                return False \n",
    "            else:\n",
    "                if p.val==q.val:\n",
    "                    return symmetric(p.left,q.right) and symmetric(p.right,q.left)\n",
    "                else:\n",
    "                    return False \n",
    "        return symmetric(root.left,root.right)\n",
    "\n",
    "        "
   ]
  }
 ],
 "metadata": {
  "kernelspec": {
   "display_name": "Python 3 (ipykernel)",
   "language": "python",
   "name": "python3"
  },
  "language_info": {
   "codemirror_mode": {
    "name": "ipython",
    "version": 3
   },
   "file_extension": ".py",
   "mimetype": "text/x-python",
   "name": "python",
   "nbconvert_exporter": "python",
   "pygments_lexer": "ipython3",
   "version": "3.9.7"
  }
 },
 "nbformat": 4,
 "nbformat_minor": 5
}
