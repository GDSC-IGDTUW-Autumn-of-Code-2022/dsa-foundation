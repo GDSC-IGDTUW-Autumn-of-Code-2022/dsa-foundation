{
 "cells": [
  {
   "cell_type": "code",
   "execution_count": null,
   "id": "87723aa7",
   "metadata": {},
   "outputs": [],
   "source": [
    "t=int(input())\n",
    "for p in range(t):\n",
    "    x,y=list(map(int,input().split()))\n",
    "    s=[]\n",
    "    if y==1 and x!=1:\n",
    "        for i in range(x):\n",
    "            print('a',end=\"\")\n",
    "    elif x==1:\n",
    "        print('a')\n",
    "    elif (x==y):\n",
    "        print(-1)\n",
    "    elif x%2!=0 and y>((x//2)+1):\n",
    "        print(-1)\n",
    "    elif x%2==0 and y>x/2:\n",
    "        print(-1)\n",
    "    elif (x%2==0):\n",
    "        for i in range(0,y):\n",
    "            s.append(chr(i+97))\n",
    "        for i in range(y,(x//2)):\n",
    "            s.append(chr(97))\n",
    "        l=s[::-1]\n",
    "        for i in range(len(l)):\n",
    "            s.append(l[i])\n",
    "        for g in range(len(s)):\n",
    "            print(s[g],end=\"\")\n",
    "    elif x!=1 and x%2!=0:\n",
    "        for i in range(0,y):\n",
    "            s.append(chr(i+97))\n",
    "        for i in range(y,(x//2)+1):\n",
    "            s.append(chr(97))\n",
    "        l=s[len(s)-1:-1:-1]\n",
    "        for i in range(len(l)):\n",
    "            s.append(l[i])\n",
    "        m=s[0:len(s)-1]\n",
    "        m=m[::-1]\n",
    "        for i in range(len(m)):\n",
    "            s.append(m[i])\n",
    "        for k in range(len(s)):\n",
    "            print(s[k],end=\"\")\n",
    "    "
   ]
  },
  {
   "cell_type": "code",
   "execution_count": null,
   "id": "a466fa4f",
   "metadata": {},
   "outputs": [],
   "source": []
  }
 ],
 "metadata": {
  "kernelspec": {
   "display_name": "Python 3 (ipykernel)",
   "language": "python",
   "name": "python3"
  },
  "language_info": {
   "codemirror_mode": {
    "name": "ipython",
    "version": 3
   },
   "file_extension": ".py",
   "mimetype": "text/x-python",
   "name": "python",
   "nbconvert_exporter": "python",
   "pygments_lexer": "ipython3",
   "version": "3.9.7"
  }
 },
 "nbformat": 4,
 "nbformat_minor": 5
}
